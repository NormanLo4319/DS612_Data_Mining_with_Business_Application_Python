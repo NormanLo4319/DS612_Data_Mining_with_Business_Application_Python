{
 "cells": [
  {
   "cell_type": "markdown",
   "metadata": {},
   "source": [
    "# Function in Python"
   ]
  },
  {
   "cell_type": "code",
   "execution_count": 1,
   "metadata": {},
   "outputs": [],
   "source": [
    "# In Python, we can create and save our won function to use in the global environment\n",
    "# For example, we can create a TestFunction() that take two numbers and return sum and product of them\n",
    "def TestFunction(number1, number2):\n",
    "    SumResult = number1+number2\n",
    "    ProductResult = number1*number2\n",
    "    return [SumResult, ProductResult]"
   ]
  },
  {
   "cell_type": "code",
   "execution_count": 2,
   "metadata": {},
   "outputs": [],
   "source": [
    "# Using the TestFunction() to calculate the sum and product of 2 and 4\n",
    "x = TestFunction(2,4)"
   ]
  },
  {
   "cell_type": "code",
   "execution_count": 5,
   "metadata": {},
   "outputs": [
    {
     "name": "stdout",
     "output_type": "stream",
     "text": [
      "[6, 8]\n",
      "6\n",
      "8\n"
     ]
    }
   ],
   "source": [
    "# Print your result\n",
    "print(x)\n",
    "print(x[0])\n",
    "print(x[1])"
   ]
  },
  {
   "cell_type": "code",
   "execution_count": 6,
   "metadata": {},
   "outputs": [
    {
     "name": "stdout",
     "output_type": "stream",
     "text": [
      "[30, 200]\n"
     ]
    }
   ],
   "source": [
    "# Once the function is defined in the global environment, it can be reused as many time as you want\n",
    "a = TestFunction(10, 20)\n",
    "print(a)"
   ]
  },
  {
   "cell_type": "code",
   "execution_count": 13,
   "metadata": {},
   "outputs": [],
   "source": [
    "# Let's practice creating a function that take two vectors a and b\n",
    "import math as m\n",
    "import numpy as np\n",
    "\n",
    "# The DistanceTest() function will be used to calculate the square-root of sum of squared difference\n",
    "# Note that python list cannot be subtracted directly.  We need to define the list as numpy array for the operation.\n",
    "def DistanceTest(a, b):\n",
    "    Dist = m.sqrt(sum((np.array(a)-np.array(b))**2))\n",
    "    return Dist"
   ]
  },
  {
   "cell_type": "code",
   "execution_count": 14,
   "metadata": {},
   "outputs": [],
   "source": [
    "# Create vector x1 and x2\n",
    "x1 = [1, 2, 3, 4]\n",
    "x2 = [0, 0, 1, 2]"
   ]
  },
  {
   "cell_type": "code",
   "execution_count": 15,
   "metadata": {},
   "outputs": [
    {
     "data": {
      "text/plain": [
       "3.605551275463989"
      ]
     },
     "execution_count": 15,
     "metadata": {},
     "output_type": "execute_result"
    }
   ],
   "source": [
    "# Using the DistanceTest Function to calculate the result\n",
    "DistanceTest(x1, x2)"
   ]
  },
  {
   "cell_type": "code",
   "execution_count": 18,
   "metadata": {},
   "outputs": [
    {
     "name": "stdout",
     "output_type": "stream",
     "text": [
      "3.605551275463989\n"
     ]
    }
   ],
   "source": [
    "# We can manually check the answer by writing the whole equation (hard-coding)\n",
    "D = m.sqrt((1-0)**2+(2-0)**2+(3-1)**2+(4-2)**2)\n",
    "print(D)"
   ]
  },
  {
   "cell_type": "code",
   "execution_count": 19,
   "metadata": {},
   "outputs": [],
   "source": [
    "# We can also write a function that has a vector as its import and returns the mean and standard deviation\n",
    "def FunctionMeanSD(a):\n",
    "    a_mean = np.mean(a)\n",
    "    a_sd = np.std(a)\n",
    "    return [a_mean, a_sd]"
   ]
  },
  {
   "cell_type": "code",
   "execution_count": 20,
   "metadata": {},
   "outputs": [
    {
     "data": {
      "text/plain": [
       "[2.5, 1.118033988749895]"
      ]
     },
     "execution_count": 20,
     "metadata": {},
     "output_type": "execute_result"
    }
   ],
   "source": [
    "# Using the FunctionMeanSD() function to calculate the mean and std for x1\n",
    "FunctionMeanSD(x1)"
   ]
  },
  {
   "cell_type": "code",
   "execution_count": null,
   "metadata": {},
   "outputs": [],
   "source": []
  }
 ],
 "metadata": {
  "kernelspec": {
   "display_name": "Python 3",
   "language": "python",
   "name": "python3"
  },
  "language_info": {
   "codemirror_mode": {
    "name": "ipython",
    "version": 3
   },
   "file_extension": ".py",
   "mimetype": "text/x-python",
   "name": "python",
   "nbconvert_exporter": "python",
   "pygments_lexer": "ipython3",
   "version": "3.7.1"
  }
 },
 "nbformat": 4,
 "nbformat_minor": 2
}
